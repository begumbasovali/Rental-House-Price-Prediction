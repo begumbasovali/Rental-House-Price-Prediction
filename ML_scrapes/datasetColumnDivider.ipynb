{
  "nbformat": 4,
  "nbformat_minor": 0,
  "metadata": {
    "colab": {
      "provenance": []
    },
    "kernelspec": {
      "name": "python3",
      "display_name": "Python 3"
    },
    "language_info": {
      "name": "python"
    }
  },
  "cells": [
    {
      "cell_type": "code",
      "execution_count": null,
      "metadata": {
        "id": "3Aw89_E7UGS5"
      },
      "outputs": [],
      "source": [
        "import pandas as pd\n",
        "\n",
        "# Read the Excel file\n",
        "df = pd.read_excel(\"hamREMAX.xlsx\")\n",
        "\n",
        "# Split the 'location' column into three new columns: 'City', 'District', and 'Neighborhood'\n",
        "df[['İl', 'İlçe', 'Mahalle']] = df['location'].str.split('/', expand=True)\n",
        "\n",
        "# Remove leading/trailing whitespaces from the new columns\n",
        "df['İl'] = df['İl'].str.strip()\n",
        "df['İlçe'] = df['İlçe'].str.strip()\n",
        "df['Mahalle'] = df['Mahalle'].str.strip()\n",
        "\n",
        "# Extract 'Fuel Type' and 'Heating Type' from the 'Isıtma' column using regular expressions\n",
        "df[['Yakıt Tipi', 'Isıtma Türü']] = df['Isıtma'].str.extract(r'(\\w+)\\s*\\((.*?)\\)')\n",
        "\n",
        "# Drop the original 'location' and 'Isıtma' columns as they are no longer needed\n",
        "df = df.drop(columns=['location', 'Isıtma'])\n",
        "\n",
        "# Save the cleaned and updated DataFrame to a new CSV file\n",
        "df.to_csv(\"duzenlenmis_REMAX.csv\", index=False)\n",
        "\n",
        "# Inform the user that the operation is complete\n",
        "print(\"New columns added, old columns removed, and the file was saved as 'duzenlenmis_REMAX.csv'.\")"
      ]
    },
    {
      "cell_type": "code",
      "source": [
        "\n",
        "import pandas as pd\n",
        "df = pd.read_csv(\"emlakjet_bursa_kiralik_daire_detaylari_new.csv\")  # Read the dataset from CSV\n",
        "\n",
        "# Split the \"Konum\" column into separate \"City\", \"District\", and \"Neighborhood\" columns\n",
        "konum_split = df[\"Konum\"].str.split(\" - \", expand=True)\n",
        "df[\"İl\"] = konum_split[0]       # City\n",
        "df[\"İlçe\"] = konum_split[1]     # District\n",
        "df[\"Mahalle\"] = konum_split[2]  # Neighborhood\n",
        "\n",
        "df.drop(columns=[\"Konum\"], inplace=True)  # Drop the original \"Konum\" column\n",
        "\n",
        "# Define a function to separate heating type and fuel type\n",
        "def ayir_isitma_yakit(tip):\n",
        "    if pd.isna(tip):\n",
        "        return pd.Series([None, None])\n",
        "    tip = tip.lower()\n",
        "    yakitlar = [\"doğalgaz\", \"kat kaloriferi\", \"fuel oil\", \"kömür\", \"elektrik\"]\n",
        "    isitma_tipi = None\n",
        "    yakit_tipi = None\n",
        "\n",
        "    # Check if any known fuel type is in the string and extract it\n",
        "    for yakit in yakitlar:\n",
        "        if yakit in tip:\n",
        "            yakit_tipi = yakit.title()  # Capitalize fuel type\n",
        "            isitma_tipi = tip.replace(yakit, \"\").strip().title()  # Extract heating type\n",
        "            break\n",
        "    if not yakit_tipi:\n",
        "        isitma_tipi = tip.title()  # If no known fuel type found, use the whole string as heating type\n",
        "    return pd.Series([isitma_tipi, yakit_tipi])\n",
        "\n",
        "# Apply the function and create new columns for heating and fuel types\n",
        "df[[\"Isıtma Tipi\", \"Yakıt Tipi\"]] = df[\"Isıtma Tipi\"].apply(ayir_isitma_yakit)\n",
        "\n",
        "output_path = \"emlakjet_bursa_kiralik_daire_detaylari_duzenlenmis.csv\"\n",
        "df.to_csv(output_path, index=False)  # Save the updated dataset to a new CSV file"
      ],
      "metadata": {
        "colab": {
          "base_uri": "https://localhost:8080/",
          "height": 35
        },
        "id": "6V9NeFh_VKZq",
        "outputId": "79b6d3f2-39f2-4636-c7b7-070ecc250706"
      },
      "execution_count": null,
      "outputs": [
        {
          "output_type": "execute_result",
          "data": {
            "text/plain": [
              "'emlakjet_bursa_kiralik_daire_detaylari_duzenlenmis.csv'"
            ],
            "application/vnd.google.colaboratory.intrinsic+json": {
              "type": "string"
            }
          },
          "metadata": {},
          "execution_count": 1
        }
      ]
    },
    {
      "cell_type": "code",
      "source": [
        "import pandas as pd\n",
        "\n",
        "# Read the CSV file, skipping any problematic lines\n",
        "df = pd.read_csv(\"hepsiemlak_bursa_ilan_detaylari.csv\", on_bad_lines='skip')\n",
        "\n",
        "# Function to split the 'Konum' column into city, district, and neighborhood\n",
        "def konum_ayir(konum):\n",
        "    try:\n",
        "        il, ilce, mahalle = [parca.strip() for parca in konum.split('/')]  # Split by '/' and remove whitespace\n",
        "        mahalle = mahalle.replace(\"Mah.\", \"\").strip()  # Remove \"Mah.\" and trim whitespace\n",
        "        return pd.Series([il, ilce, mahalle])\n",
        "    except:\n",
        "        return pd.Series([None, None, None])  # Return None values if an error occurs\n",
        "\n",
        "# Apply the location splitting function and create new columns\n",
        "df[['İl', 'İlçe', 'Mahalle']] = df['Konum'].apply(konum_ayir)\n",
        "\n",
        "# Drop the original 'Konum' column\n",
        "df = df.drop(columns=['Konum'])\n",
        "\n",
        "# Preview the first few rows of the modified DataFrame\n",
        "print(df.head())\n",
        "\n",
        "# Export the updated data to an Excel file\n",
        "df.to_excel(\"konum_ayrilmis_veri.xlsx\", index=False)"
      ],
      "metadata": {
        "id": "Jf6lZ6uHcb5q"
      },
      "execution_count": null,
      "outputs": []
    },
    {
      "cell_type": "code",
      "source": [
        "import pandas as pd\n",
        "\n",
        "# Read the CSV file containing real estate details\n",
        "df = pd.read_csv(\"hepsiemlak_bursa_daire_detaylari_new.csv\")\n",
        "\n",
        "# Extract city, district, and neighborhood from the 'Konum' column using regex\n",
        "df[['İl', 'İlçe', 'Mahalle']] = df['Konum'].str.extract(r'^(.*?) (.*?) (.*? Mah\\.)')\n",
        "\n",
        "# Remove leading and trailing whitespace from each of the new columns\n",
        "df['İl'] = df['İl'].str.strip()\n",
        "df['İlçe'] = df['İlçe'].str.strip()\n",
        "df['Mahalle'] = df['Mahalle'].str.strip()\n",
        "\n",
        "# Drop the original 'Konum' column\n",
        "df = df.drop(columns=['Konum'])\n",
        "\n",
        "# Save the modified DataFrame to a new CSV file\n",
        "df.to_csv(\"hepsiemlak_bursa_daire_detaylari_new_split.csv\", index=False)\n",
        "\n",
        "# Print a confirmation message\n",
        "print(\"Konum başarıyla 3 sütuna bölündü ve yeni dosya kaydedildi.\")\n",
        "# (Location was successfully split into 3 columns and the new file was saved.)"
      ],
      "metadata": {
        "id": "6h7A7a_lkzRv"
      },
      "execution_count": null,
      "outputs": []
    }
  ]
}